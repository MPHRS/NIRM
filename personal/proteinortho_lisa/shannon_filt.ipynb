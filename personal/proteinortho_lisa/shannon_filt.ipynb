{
 "cells": [
  {
   "cell_type": "code",
   "execution_count": 1,
   "id": "9c511dda-c1cd-4d56-a2b5-41524ecacf30",
   "metadata": {},
   "outputs": [],
   "source": [
    "import pandas as pd\n",
    "\n",
    "# Загрузка данных\n",
    "data = pd.read_csv(\"shannon_indices.tsv\", sep='\\t')\n"
   ]
  },
  {
   "cell_type": "code",
   "execution_count": 4,
   "id": "0c76ebe0-5581-4541-a4c1-92e65deb2f41",
   "metadata": {},
   "outputs": [
    {
     "name": "stdout",
     "output_type": "stream",
     "text": [
      "Mean: 0.0090826\n",
      "Median: 0.0032000\n",
      "Min: 0.0000000\n",
      "Max: 0.5428000\n",
      "Std Dev: 0.0288251\n"
     ]
    }
   ],
   "source": [
    "# Вычисление общей статистики\n",
    "mean_shannon = data['ShannonIndex'].mean()\n",
    "median_shannon = data['ShannonIndex'].median()\n",
    "min_shannon = data['ShannonIndex'].min()\n",
    "max_shannon = data['ShannonIndex'].max()\n",
    "std_shannon = data['ShannonIndex'].std()\n",
    "\n",
    "# Вывод общей статистики\n",
    "print(f\"Mean: {mean_shannon:.7f}\")\n",
    "print(f\"Median: {median_shannon:.7f}\")\n",
    "print(f\"Min: {min_shannon:.7f}\")\n",
    "print(f\"Max: {max_shannon:.7f}\")\n",
    "print(f\"Std Dev: {std_shannon:.7f}\")\n",
    "\n"
   ]
  },
  {
   "cell_type": "code",
   "execution_count": 8,
   "id": "9318ee7c-f3e5-4a29-9526-89bd111c96e6",
   "metadata": {},
   "outputs": [
    {
     "name": "stdout",
     "output_type": "stream",
     "text": [
      "Ортогрупп для анализа: 17\n"
     ]
    }
   ],
   "source": [
    "\n",
    "# Порог фильтрации (Mean + 3 × Std Dev)\n",
    "threshold = mean_shannon + 3 * std_shannon\n",
    "\n",
    "# Фильтрация\n",
    "filtered_data = data[data['ShannonIndex'] > threshold]\n",
    "# Печать сколько ортогрупп получилось\n",
    "print(f\"Ортогрупп для анализа: {len(filtered_data)}\")\n",
    "\n"
   ]
  },
  {
   "cell_type": "code",
   "execution_count": 9,
   "id": "c26292b7-3bb4-42f9-b5ef-e5cbf1ec8789",
   "metadata": {},
   "outputs": [
    {
     "name": "stdout",
     "output_type": "stream",
     "text": [
      "Filtered groups saved to 'shannon_indices_filt.tsv' (threshold: 0.0955580)\n"
     ]
    }
   ],
   "source": [
    "# Запись отфильтрованных данных\n",
    "filtered_data.to_csv(\"shannon_indices_filt.tsv\", sep='\\t', index=False)\n",
    "\n",
    "print(f\"Filtered groups saved to 'shannon_indices_filt.tsv' (threshold: {threshold:.7f})\")"
   ]
  }
 ],
 "metadata": {
  "kernelspec": {
   "display_name": "Python 3 (ipykernel)",
   "language": "python",
   "name": "python3"
  },
  "language_info": {
   "codemirror_mode": {
    "name": "ipython",
    "version": 3
   },
   "file_extension": ".py",
   "mimetype": "text/x-python",
   "name": "python",
   "nbconvert_exporter": "python",
   "pygments_lexer": "ipython3",
   "version": "3.13.0"
  }
 },
 "nbformat": 4,
 "nbformat_minor": 5
}
